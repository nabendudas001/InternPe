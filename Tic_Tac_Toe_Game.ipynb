{
  "nbformat": 4,
  "nbformat_minor": 0,
  "metadata": {
    "colab": {
      "provenance": []
    },
    "kernelspec": {
      "name": "python3",
      "display_name": "Python 3"
    },
    "language_info": {
      "name": "python"
    }
  },
  "cells": [
    {
      "cell_type": "markdown",
      "source": [
        "# NAME: NABENDU DAS\n",
        "# TASK-1: TIC TAC TOE GAME"
      ],
      "metadata": {
        "id": "cqCM1mzl3peN"
      }
    },
    {
      "cell_type": "code",
      "execution_count": 1,
      "metadata": {
        "colab": {
          "base_uri": "https://localhost:8080/"
        },
        "id": "0CWNL0m-252D",
        "outputId": "c437e9fc-3e60-490e-8ed2-9b4e269b07d6"
      },
      "outputs": [
        {
          "output_type": "stream",
          "name": "stdout",
          "text": [
            "  |   |  \n",
            "---------\n",
            "  |   |  \n",
            "---------\n",
            "  |   |  \n",
            "---------\n",
            "Player X\n",
            "Enter the row (0-2): 0\n",
            "Enter the column (0-2): 0\n",
            "X |   |  \n",
            "---------\n",
            "  |   |  \n",
            "---------\n",
            "  |   |  \n",
            "---------\n",
            "Player O\n",
            "Enter the row (0-2): 0\n",
            "Enter the column (0-2): 1\n",
            "X | O |  \n",
            "---------\n",
            "  |   |  \n",
            "---------\n",
            "  |   |  \n",
            "---------\n",
            "Player X\n",
            "Enter the row (0-2): 1\n",
            "Enter the column (0-2): 1\n",
            "X | O |  \n",
            "---------\n",
            "  | X |  \n",
            "---------\n",
            "  |   |  \n",
            "---------\n",
            "Player O\n",
            "Enter the row (0-2): 2\n",
            "Enter the column (0-2): 0\n",
            "X | O |  \n",
            "---------\n",
            "  | X |  \n",
            "---------\n",
            "O |   |  \n",
            "---------\n",
            "Player X\n",
            "Enter the row (0-2): 2\n",
            "Enter the column (0-2): 2\n",
            "X | O |  \n",
            "---------\n",
            "  | X |  \n",
            "---------\n",
            "O |   | X\n",
            "---------\n",
            "Player X wins!\n"
          ]
        }
      ],
      "source": [
        "import random\n",
        "def print_board(board):\n",
        "    for row in board:\n",
        "        print(\" | \".join(row))\n",
        "        print(\"-\" * 9)\n",
        "\n",
        "def check_winner(board):\n",
        "    # Check rows\n",
        "    for row in board:\n",
        "        if len(set(row)) == 1 and row[0] != \" \":\n",
        "            return row[0]\n",
        "\n",
        "    # Check columns\n",
        "    for col in range(3):\n",
        "        if len(set([board[row][col] for row in range(3)])) == 1 and board[0][col] != \" \":\n",
        "            return board[0][col]\n",
        "\n",
        "    # Check diagonals\n",
        "    if len(set([board[i][i] for i in range(3)])) == 1 and board[0][0] != \" \":\n",
        "        return board[0][0]\n",
        "\n",
        "    if len(set([board[i][2 - i] for i in range(3)])) == 1 and board[0][2] != \" \":\n",
        "        return board[0][2]\n",
        "\n",
        "    return None\n",
        "\n",
        "def is_board_full(board):\n",
        "    for row in board:\n",
        "        if \" \" in row:\n",
        "            return False\n",
        "    return True\n",
        "\n",
        "def play_game():\n",
        "    board = [[\" \" for _ in range(3)] for _ in range(3)]\n",
        "    current_player = \"X\"\n",
        "\n",
        "    while True:\n",
        "        print_board(board)\n",
        "\n",
        "        # Get the current player's move\n",
        "        print(\"Player\", current_player)\n",
        "        row = int(input(\"Enter the row (0-2): \"))\n",
        "        col = int(input(\"Enter the column (0-2): \"))\n",
        "\n",
        "        if board[row][col] == \" \":\n",
        "            board[row][col] = current_player\n",
        "        else:\n",
        "            print(\"Invalid move. Try again.\")\n",
        "            continue\n",
        "\n",
        "        winner = check_winner(board)\n",
        "\n",
        "        if winner:\n",
        "            print_board(board)\n",
        "            print(\"Player\", winner, \"wins!\")\n",
        "            break\n",
        "        elif is_board_full(board):\n",
        "            print_board(board)\n",
        "            print(\"It's a tie!\")\n",
        "            break\n",
        "\n",
        "        # Switch players\n",
        "        current_player = \"O\" if current_player == \"X\" else \"X\"\n",
        "\n",
        "play_game()"
      ]
    }
  ]
}